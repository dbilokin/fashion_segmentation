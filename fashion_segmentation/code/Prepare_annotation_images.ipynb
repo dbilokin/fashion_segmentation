{
 "cells": [
  {
   "cell_type": "code",
   "execution_count": 1,
   "metadata": {},
   "outputs": [],
   "source": [
    "import pandas as pd\n",
    "import os\n",
    "import cv2\n",
    "import numpy as np\n",
    "import json\n",
    "from skimage.transform import resize\n",
    "from matplotlib import pyplot as plt\n",
    "%matplotlib inline\n",
    "\n"
   ]
  },
  {
   "cell_type": "code",
   "execution_count": 2,
   "metadata": {},
   "outputs": [],
   "source": [
    "with open(\"label_descriptions.json\", \"r\")as f:\n",
    "    labels_info = json.load(f)\n",
    "# labels_info[\"categories\"]"
   ]
  },
  {
   "cell_type": "code",
   "execution_count": 3,
   "metadata": {},
   "outputs": [],
   "source": [
    "df = pd.read_csv(\"train.csv\")"
   ]
  },
  {
   "cell_type": "code",
   "execution_count": 4,
   "metadata": {},
   "outputs": [],
   "source": [
    "df.head()\n",
    "unique_images = df.ImageId.unique()\n"
   ]
  },
  {
   "cell_type": "code",
   "execution_count": 5,
   "metadata": {},
   "outputs": [
    {
     "data": {
      "text/html": [
       "<div>\n",
       "<style scoped>\n",
       "    .dataframe tbody tr th:only-of-type {\n",
       "        vertical-align: middle;\n",
       "    }\n",
       "\n",
       "    .dataframe tbody tr th {\n",
       "        vertical-align: top;\n",
       "    }\n",
       "\n",
       "    .dataframe thead th {\n",
       "        text-align: right;\n",
       "    }\n",
       "</style>\n",
       "<table border=\"1\" class=\"dataframe\">\n",
       "  <thead>\n",
       "    <tr style=\"text-align: right;\">\n",
       "      <th></th>\n",
       "      <th>ImageId</th>\n",
       "      <th>EncodedPixels</th>\n",
       "      <th>Height</th>\n",
       "      <th>Width</th>\n",
       "      <th>ClassId</th>\n",
       "    </tr>\n",
       "  </thead>\n",
       "  <tbody>\n",
       "    <tr>\n",
       "      <th>0</th>\n",
       "      <td>00000663ed1ff0c4e0132b9b9ac53f6e.jpg</td>\n",
       "      <td>6068157 7 6073371 20 6078584 34 6083797 48 608...</td>\n",
       "      <td>5214</td>\n",
       "      <td>3676</td>\n",
       "      <td>6</td>\n",
       "    </tr>\n",
       "    <tr>\n",
       "      <th>1</th>\n",
       "      <td>00000663ed1ff0c4e0132b9b9ac53f6e.jpg</td>\n",
       "      <td>6323163 11 6328356 32 6333549 53 6338742 75 63...</td>\n",
       "      <td>5214</td>\n",
       "      <td>3676</td>\n",
       "      <td>0</td>\n",
       "    </tr>\n",
       "  </tbody>\n",
       "</table>\n",
       "</div>"
      ],
      "text/plain": [
       "                                ImageId  \\\n",
       "0  00000663ed1ff0c4e0132b9b9ac53f6e.jpg   \n",
       "1  00000663ed1ff0c4e0132b9b9ac53f6e.jpg   \n",
       "\n",
       "                                       EncodedPixels  Height  Width ClassId  \n",
       "0  6068157 7 6073371 20 6078584 34 6083797 48 608...    5214   3676       6  \n",
       "1  6323163 11 6328356 32 6333549 53 6338742 75 63...    5214   3676       0  "
      ]
     },
     "execution_count": 5,
     "metadata": {},
     "output_type": "execute_result"
    }
   ],
   "source": [
    "df1 = df[:2]\n",
    "df1"
   ]
  },
  {
   "cell_type": "code",
   "execution_count": 6,
   "metadata": {},
   "outputs": [],
   "source": [
    "def get_masks(image_id):\n",
    "    masks = dict()\n",
    "    temp = df[df.ImageId == image_id]\n",
    "    for i in range(temp.shape[0]):\n",
    "        width = temp.iloc[i].Width\n",
    "        height = temp.iloc[i].Height\n",
    "        class_id = temp.iloc[i].ClassId.split()[0]\n",
    "        mask_encoded = temp.iloc[i].EncodedPixels.split()\n",
    "        mask = [0] * (width*height)\n",
    "        for j in range(0, len(mask_encoded), 2):\n",
    "            mask[int(mask_encoded[j]): int(mask_encoded[j])+int(mask_encoded[j+1])] = [1]*int(mask_encoded[j+1])\n",
    "        mask = np.fliplr(np.flip(np.rot90(np.array(mask).reshape((width, height)))))\n",
    "        masks[int(class_id)] = mask\n",
    "    masks_classes = []\n",
    "    for i in range(46):\n",
    "        if i in masks:\n",
    "            new_mask = masks[i].astype('uint8') * i\n",
    "            masks_classes.append(new_mask) \n",
    "    else:\n",
    "        masks_classes.append(np.zeros((height, width)).astype('uint8'))\n",
    "    masks_classes = np.array(masks_classes)\n",
    "    return masks_classes\n",
    "\n",
    "def join_masks(masks, path_to_annotation, img_name):\n",
    "    all_masks = np.zeros((masks[0].shape[0],  masks[0].shape[1]))\n",
    "    areas = {}\n",
    "    for i, mask in enumerate(masks):\n",
    "        areas[i] = np.count_nonzero(mask)\n",
    "    areas_by_size = {k: v for k, v in sorted(areas.items(), key=lambda item: item[1])}\n",
    "    for k, v in areas_by_size.items():\n",
    "        all_masks = np.maximum(all_masks, masks[k])\n",
    "    r = np.array(all_masks, dtype = np.uint8)\n",
    "    cv2.imwrite(os.path.join(path_to_annotation, f\"{img_name}.png\"), r)\n",
    "\n",
    "\n",
    "def create_annotation(path_to_annotation, img_id):\n",
    "    img_name = unique_images[img_id].split(\".\")[0]\n",
    "    masks = get_masks(unique_images[img_id])\n",
    "    join_masks(masks, path_to_annotation, img_name)\n"
   ]
  },
  {
   "cell_type": "code",
   "execution_count": 7,
   "metadata": {},
   "outputs": [],
   "source": [
    "create_annotation(\"train_annotations\", 10)"
   ]
  },
  {
   "cell_type": "code",
   "execution_count": 8,
   "metadata": {
    "scrolled": true
   },
   "outputs": [],
   "source": [
    "for i, item in enumerate(unique_images[10:15]):\n",
    "    create_annotation(\"val_annotations\", i)"
   ]
  },
  {
   "cell_type": "code",
   "execution_count": 9,
   "metadata": {},
   "outputs": [],
   "source": [
    "from shutil import copyfile\n",
    "for file in os.listdir(\"val_annotations/\"):\n",
    "    filename = file.split('.')[0]\n",
    "    copyfile(os.path.join(\"train\", f\"{filename}.jpg\"), os.path.join(\"val_train\", f\"{filename}.jpg\"))"
   ]
  },
  {
   "cell_type": "code",
   "execution_count": null,
   "metadata": {},
   "outputs": [],
   "source": []
  },
  {
   "cell_type": "code",
   "execution_count": null,
   "metadata": {},
   "outputs": [],
   "source": []
  },
  {
   "cell_type": "code",
   "execution_count": null,
   "metadata": {},
   "outputs": [],
   "source": []
  },
  {
   "cell_type": "code",
   "execution_count": null,
   "metadata": {},
   "outputs": [],
   "source": []
  },
  {
   "cell_type": "code",
   "execution_count": null,
   "metadata": {},
   "outputs": [],
   "source": []
  }
 ],
 "metadata": {
  "kernelspec": {
   "display_name": "Python 3",
   "language": "python",
   "name": "python3"
  },
  "language_info": {
   "codemirror_mode": {
    "name": "ipython",
    "version": 3
   },
   "file_extension": ".py",
   "mimetype": "text/x-python",
   "name": "python",
   "nbconvert_exporter": "python",
   "pygments_lexer": "ipython3",
   "version": "3.6.6"
  }
 },
 "nbformat": 4,
 "nbformat_minor": 2
}
